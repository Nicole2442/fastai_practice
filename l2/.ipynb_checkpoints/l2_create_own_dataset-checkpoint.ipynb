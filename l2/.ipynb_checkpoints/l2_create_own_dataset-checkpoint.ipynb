{
 "cells": [
  {
   "cell_type": "code",
   "execution_count": null,
   "metadata": {},
   "outputs": [],
   "source": [
    "# create own dataset from Google image"
   ]
  },
  {
   "cell_type": "code",
   "execution_count": 3,
   "metadata": {},
   "outputs": [],
   "source": [
    "%reload_ext autoreload\n",
    "%autoreload 2\n",
    "%matplotlib inline"
   ]
  },
  {
   "cell_type": "code",
   "execution_count": 4,
   "metadata": {},
   "outputs": [],
   "source": [
    "from fastai.vision import *"
   ]
  },
  {
   "cell_type": "code",
   "execution_count": null,
   "metadata": {},
   "outputs": [],
   "source": [
    "# search and scroll in Google Image\n",
    "# download into file: run JS code (get_url.js) in browser to save the URLs of all images"
   ]
  },
  {
   "cell_type": "code",
   "execution_count": null,
   "metadata": {},
   "outputs": [],
   "source": [
    "# create dir and upload urls file into your server\n",
    "# 1. choose names for labeled images and mkdir\n",
    "# 2. download images\n",
    "\n",
    "# max_works: if have problem download, try with max_works=0 to see exceptions\n",
    "# max_works: default is 8 and it means CPUs"
   ]
  },
  {
   "cell_type": "code",
   "execution_count": 37,
   "metadata": {},
   "outputs": [],
   "source": [
    "folder = 'gjbwg'\n",
    "file = 'urls_gjbwg.csv'\n",
    "\n",
    "path = Path('data/landmark')\n",
    "dest = path/folder\n",
    "dest.mkdir(parents=True, exist_ok=True)\n",
    "\n",
    "path.ls()\n",
    "\n",
    "download_images(path/file, dest, max_pics = 50, max_workers=0)"
   ]
  },
  {
   "cell_type": "code",
   "execution_count": 38,
   "metadata": {},
   "outputs": [
    {
     "data": {
      "text/html": [
       "\n",
       "    <div>\n",
       "        <style>\n",
       "            /* Turns off some styling */\n",
       "            progress {\n",
       "                /* gets rid of default border in Firefox and Opera. */\n",
       "                border: none;\n",
       "                /* Needs to be in here for Safari polyfill so background images work as expected. */\n",
       "                background-size: auto;\n",
       "            }\n",
       "            .progress-bar-interrupted, .progress-bar-interrupted::-webkit-progress-bar {\n",
       "                background: #F44336;\n",
       "            }\n",
       "        </style>\n",
       "      <progress value='8' class='' max='10', style='width:300px; height:20px; vertical-align: middle;'></progress>\n",
       "      80.00% [8/10 00:51<00:12]\n",
       "    </div>\n",
       "    "
      ],
      "text/plain": [
       "<IPython.core.display.HTML object>"
      ]
     },
     "metadata": {},
     "output_type": "display_data"
    },
    {
     "name": "stdout",
     "output_type": "stream",
     "text": [
      "Error https://pbs.twimg.com/media/D8kKry1UIAEcrdj.jpg HTTPSConnectionPool(host='pbs.twimg.com', port=443): Max retries exceeded with url: /media/D8kKry1UIAEcrdj.jpg (Caused by ProxyError('Cannot connect to proxy.', timeout('select timed out')))\n",
      "Error http://i.epochtimes.com/assets/uploads/2018/06/LINJIN-600x400.jpg HTTPConnectionPool(host='127.0.0.1', port=61434): Max retries exceeded with url: http://i.epochtimes.com/assets/uploads/2018/06/LINJIN-600x400.jpg (Caused by ReadTimeoutError(\"HTTPConnectionPool(host='127.0.0.1', port=61434): Read timed out. (read timeout=4)\"))\n",
      "Error https://upload.wikimedia.org/wikipedia/commons/a/ab/%E5%A4%A9%E5%AE%89%E9%97%A8.JPG HTTPSConnectionPool(host='upload.wikimedia.org', port=443): Max retries exceeded with url: /wikipedia/commons/a/ab/%E5%A4%A9%E5%AE%89%E9%97%A8.JPG (Caused by ProxyError('Cannot connect to proxy.', timeout('select timed out')))\n",
      "Error https://media-cdn.tripadvisor.com/media/daodao/photo-s/05/18/00/c9/caption.jpg HTTPSConnectionPool(host='media-cdn.tripadvisor.com', port=443): Max retries exceeded with url: /media/daodao/photo-s/05/18/00/c9/caption.jpg (Caused by ProxyError('Cannot connect to proxy.', timeout('select timed out')))\n",
      "Error https://upload.wikimedia.org/wikipedia/commons/e/e4/%E5%A4%A9%E5%AE%89%E9%97%A8%E5%A4%9C%E6%99%AF.jpg HTTPSConnectionPool(host='upload.wikimedia.org', port=443): Max retries exceeded with url: /wikipedia/commons/e/e4/%E5%A4%A9%E5%AE%89%E9%97%A8%E5%A4%9C%E6%99%AF.jpg (Caused by ProxyError('Cannot connect to proxy.', timeout('select timed out')))\n",
      "\n",
      " Download of http://hua.umf.maine.edu/China/HistoricBeijing/Forbidden_City/images/01Tiananmen%20Gate_ForbiddenCity_6868crbw.jpg has failed after 5 retries\n",
      " Fix the download manually:\n",
      "$ mkdir -p /Users/liaoke/.fastai/data\n",
      "$ cd /Users/liaoke/.fastai/data\n",
      "$ wget -c http://hua.umf.maine.edu/China/HistoricBeijing/Forbidden_City/images/01Tiananmen%20Gate_ForbiddenCity_6868crbw.jpg\n",
      "$ tar -zxvf 01Tiananmen%20Gate_ForbiddenCity_6868crbw.jpg\n",
      "\n",
      "And re-run your code once the download is successful\n",
      "\n"
     ]
    },
    {
     "ename": "SystemExit",
     "evalue": "1",
     "output_type": "error",
     "traceback": [
      "An exception has occurred, use %tb to see the full traceback.\n",
      "\u001b[0;31mSystemExit\u001b[0m\u001b[0;31m:\u001b[0m 1\n"
     ]
    }
   ],
   "source": [
    "folder = 'tam'\n",
    "file = 'urls_tam.csv'\n",
    "\n",
    "path = Path('data/landmark')\n",
    "dest = path/folder\n",
    "dest.mkdir(parents=True, exist_ok=True)\n",
    "\n",
    "path.ls()\n",
    "\n",
    "download_images(path/file, dest, max_pics = 50, max_workers=0)"
   ]
  },
  {
   "cell_type": "code",
   "execution_count": 31,
   "metadata": {},
   "outputs": [],
   "source": [
    "folder = 'rmdht'\n",
    "file = 'urls_rmdht.csv'\n",
    "\n",
    "path = Path('data/landmark')\n",
    "dest = path/folder\n",
    "dest.mkdir(parents=True, exist_ok=True)\n",
    "\n",
    "path.ls()\n",
    "\n",
    "download_images(path/file, dest, max_pics = 50, max_workers=0)"
   ]
  },
  {
   "cell_type": "code",
   "execution_count": null,
   "metadata": {},
   "outputs": [],
   "source": [
    "# remove any image that can not be open\n",
    "# resize image less than max_size"
   ]
  },
  {
   "cell_type": "code",
   "execution_count": 40,
   "metadata": {},
   "outputs": [],
   "source": [
    "classes = ['rmdht', 'tam', 'gjbwg']\n",
    "for c in classes:\n",
    "    print(c)\n",
    "    verify_images(path/c, delete=True, max_size=500)"
   ]
  },
  {
   "cell_type": "code",
   "execution_count": null,
   "metadata": {},
   "outputs": [],
   "source": []
  },
  {
   "cell_type": "code",
   "execution_count": null,
   "metadata": {},
   "outputs": [],
   "source": []
  },
  {
   "cell_type": "code",
   "execution_count": 25,
   "metadata": {},
   "outputs": [],
   "source": []
  },
  {
   "cell_type": "code",
   "execution_count": null,
   "metadata": {},
   "outputs": [],
   "source": []
  }
 ],
 "metadata": {
  "kernelspec": {
   "display_name": "Python 3",
   "language": "python",
   "name": "python3"
  },
  "language_info": {
   "codemirror_mode": {
    "name": "ipython",
    "version": 3
   },
   "file_extension": ".py",
   "mimetype": "text/x-python",
   "name": "python",
   "nbconvert_exporter": "python",
   "pygments_lexer": "ipython3",
   "version": "3.7.3"
  }
 },
 "nbformat": 4,
 "nbformat_minor": 2
}
